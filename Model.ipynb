{
 "cells": [
  {
   "cell_type": "markdown",
   "id": "26ca6426",
   "metadata": {},
   "source": [
    "### **CreditRiskClassification Model**"
   ]
  },
  {
   "cell_type": "markdown",
   "id": "b53f8ee8",
   "metadata": {},
   "source": [
    "#### Problem Defintion:"
   ]
  },
  {
   "cell_type": "code",
   "execution_count": 3,
   "id": "fb68cb4e",
   "metadata": {},
   "outputs": [],
   "source": [
    "# Import Data Manipulation Library\n",
    "import numpy as np\n",
    "import pandas as pd\n",
    "# Import Data Visualization Library\n",
    "import seaborn as sns\n",
    "import matplotlib.pyplot as plt\n",
    "# Import FilterWarnings Library\n",
    "import warnings\n",
    "warnings.filterwarnings('ignore')\n",
    "# Import Logging\n",
    "import logging\n",
    "logging.basicConfig(level = logging.INFO,\n",
    "                    filename = 'model.log',\n",
    "                    filemode = 'w',\n",
    "                    format = '%(asctime)s - %(levelname)s - %(message)s')\n",
    "# Import Scikit-Learn Libraries\n",
    "from sklearn.preprocessing import MinMaxScaler,RobustScaler\n",
    "from sklearn.model_selection import train_test_split\n",
    "from sklearn.metrics import accuracy_score,confusion_matrix,classification_report"
   ]
  },
  {
   "cell_type": "code",
   "execution_count": null,
   "id": "535353c3",
   "metadata": {},
   "outputs": [],
   "source": []
  }
 ],
 "metadata": {
  "kernelspec": {
   "display_name": "env",
   "language": "python",
   "name": "python3"
  },
  "language_info": {
   "codemirror_mode": {
    "name": "ipython",
    "version": 3
   },
   "file_extension": ".py",
   "mimetype": "text/x-python",
   "name": "python",
   "nbconvert_exporter": "python",
   "pygments_lexer": "ipython3",
   "version": "3.12.7"
  }
 },
 "nbformat": 4,
 "nbformat_minor": 5
}
